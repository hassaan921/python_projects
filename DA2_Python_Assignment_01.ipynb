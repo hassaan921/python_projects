{
  "nbformat": 4,
  "nbformat_minor": 0,
  "metadata": {
    "colab": {
      "provenance": [],
      "include_colab_link": true
    },
    "kernelspec": {
      "name": "python3",
      "display_name": "Python 3"
    },
    "language_info": {
      "name": "python"
    }
  },
  "cells": [
    {
      "cell_type": "markdown",
      "metadata": {
        "id": "view-in-github",
        "colab_type": "text"
      },
      "source": [
        "<a href=\"https://colab.research.google.com/github/hassaan921/python_projects/blob/main/DA2_Python_Assignment_01.ipynb\" target=\"_parent\"><img src=\"https://colab.research.google.com/assets/colab-badge.svg\" alt=\"Open In Colab\"/></a>"
      ]
    },
    {
      "cell_type": "markdown",
      "source": [
        "# Assignment 01\n",
        "\n",
        "Total marks: 30"
      ],
      "metadata": {
        "id": "2Ki9p_mrB4z7"
      }
    },
    {
      "cell_type": "markdown",
      "source": [
        "## Currency Converter:\n",
        "Create a program where the user inputs an amount in USD, and the program converts it to Euros (use an exchange rate of 1 USD = 0.85 EUR).\n",
        "The output should show \"\\___  USD is equal to  ___  Euro\"\n",
        "\n",
        "(5 Marks)"
      ],
      "metadata": {
        "id": "Cm6O4tJr7EHW"
      }
    },
    {
      "cell_type": "code",
      "source": [
        "user_input = input(\"Please enter your amount in USD: \")\n",
        "\n",
        "try:\n",
        "\n",
        "  # using float since USD and EUR have tenth units\n",
        "    user_input_float = float(user_input)\n",
        "\n",
        "    eur = round(user_input_float * 0.85, 2)\n",
        "\n",
        "    print(f\"{user_input_float} USD is equal to {eur} Euro\")\n",
        "\n",
        "except ValueError:\n",
        "\n",
        "    # If user inputs, say a $ sign alongside numerical value\n",
        "\n",
        "    print(\"Kindly enter a numerical value only without current symbol '$'.\")"
      ],
      "metadata": {
        "id": "4fN1SwziCS_X"
      },
      "execution_count": null,
      "outputs": []
    },
    {
      "cell_type": "markdown",
      "source": [
        "## Grade Checker:\n",
        "Write a program that takes a student's marks (out of 100) as input and prints their grade based on the following criteria:\n",
        "\n",
        "- 90-100: A\n",
        "- 80-89: B\n",
        "- 70-79: C\n",
        "- 60-69: D\n",
        "- Below 60: Fail\n",
        "\n",
        "(5 Marks)"
      ],
      "metadata": {
        "id": "gKuJdw-o7c7N"
      }
    },
    {
      "cell_type": "markdown",
      "source": [
        "# **Response**\n",
        "\n",
        "I tried with two programs. Below was my first, _intuitive_ answer"
      ],
      "metadata": {
        "id": "J1_bO_ESOtmt"
      }
    },
    {
      "cell_type": "code",
      "source": [
        "# taking user input\n",
        "marks = int(input(\"Please enter marks obtained: \"))\n",
        "\n",
        "if 89 < marks < 99:\n",
        "  print(\"Student's Grade is A\")\n",
        "\n",
        "elif 79 < marks < 89:\n",
        "  print(\"Student's Grade is B\")\n",
        "\n",
        "elif 69 < marks < 79:\n",
        "  print(\"Student's Grade is C\")\n",
        "\n",
        "elif 59 < marks < 69:\n",
        "  print(\"Student's Grade is D\")\n",
        "\n",
        "elif marks <= 59:\n",
        "  print(\"Student has failed the course\")"
      ],
      "metadata": {
        "id": "6Wepoed1CUht"
      },
      "execution_count": null,
      "outputs": []
    },
    {
      "cell_type": "markdown",
      "source": [
        "This one took considerable time but I like it better.\n"
      ],
      "metadata": {
        "id": "Mc2uxESgPXdG"
      }
    },
    {
      "cell_type": "code",
      "source": [
        "# defining a function that takes marks as input\n",
        "def grades(marks):\n",
        "\n",
        "# this dictionary saves minimum marks against which different grades are assignmed\n",
        "  grades = {90: \"A\", 80: \"B\", 70: \"C\", 60: \"D\"}\n",
        "\n",
        "  for grade_floor_value, grade in grades.items():\n",
        "    if marks >= grade_floor_value:\n",
        "      return grade\n",
        "\n",
        "  return \"fail\"\n",
        "\n",
        "# now taking input\n",
        "marks = int(input(\"Please enter student's marks: \"))\n",
        "\n",
        "grade = grades(marks)\n",
        "\n",
        "print(f\"The Student's Grade is {grade}\")"
      ],
      "metadata": {
        "id": "KwAXKxhNZz9b"
      },
      "execution_count": null,
      "outputs": []
    },
    {
      "cell_type": "markdown",
      "source": [
        "## Online Store Shipping Fee:\n",
        "Write a program for an online store that tells you shipping fees based on the order total(user input):\n",
        "\n",
        "- If the order total is less than \\$50, the shipping fee is \\$10.\n",
        "- If the order total is between \\$50 and \\$100, the shipping fee is \\$5.\n",
        "- If the order total is above \\$100, shipping is free.\n",
        "\n",
        "\n",
        "(5 Marks)"
      ],
      "metadata": {
        "id": "nQR3xyNW7T-e"
      }
    },
    {
      "cell_type": "markdown",
      "source": [
        "### **Response**\n",
        "\n",
        "**My Logic Building:**\n",
        "1. a function shipping(order_total) will store input\n",
        "2. a dictionary fee will store boundaries as keys and shipping_fee as values\n",
        "3. a for loop will define variables \"boundary\" and \"shipping_fee\" using keys in fee dictionary\n",
        "4. if order_total > boundary: return shipping_fee\n",
        "6 Using user_input, the program will define shipping_cost, and another variable total_payment_due will be sum of of order_total and shipping_fee\n",
        "7. an f string will print \"Your shipping fee will be USD {shipping_fee} and your total payment due is USD {total_payment_due}\""
      ],
      "metadata": {
        "id": "AftghLxAXeRg"
      }
    },
    {
      "cell_type": "code",
      "source": [
        "def shipping(order_total):\n",
        "\n",
        "  fee = {100: 0, 50: 5, 0: 10}\n",
        "\n",
        "  for boundary, shipping_fee in fee.items():\n",
        "\n",
        "    if order_total > boundary:\n",
        "     return shipping_fee\n",
        "\n",
        "\n",
        "# now, taking user input\n",
        "order_total = float(input(\"To find out your shipping fee and total payment due, please enter cost of your purchase: \"))\n",
        "\n",
        "shipping_fee = shipping(order_total)\n",
        "\n",
        "total_payment_due = order_total + shipping_fee\n",
        "\n",
        "print(\"\\n\")\n",
        "\n",
        "print(f\"Your shipping fee will be $ {shipping_fee} and your total payment due is $ {total_payment_due}\")"
      ],
      "metadata": {
        "id": "6NtAPF1DCVuV"
      },
      "execution_count": null,
      "outputs": []
    },
    {
      "cell_type": "markdown",
      "source": [
        "## Social Media Post Analysis (Strings):\n",
        "Write a program where the user inputs a social media post. The program should:\n",
        "\n",
        "- Count the number of words in the post. (hint: split + len)\n",
        "- Return the hashtags as well as the count of hashtags in the post (words starting with #). (hint: loop + conditions)\n",
        "\n",
        "(5 Marks)\n"
      ],
      "metadata": {
        "id": "hWCuuRRm7m6u"
      }
    },
    {
      "cell_type": "markdown",
      "source": [
        "Expected output:\n",
        "\n",
        "Enter your social media post: \"Work hard, play harder! #success #motivation #success\" <br>\n",
        "Number of words: 7 <br>\n",
        "Number of hashtags: 3 <br>\n",
        "['#success', '#motivation', '#success\"']"
      ],
      "metadata": {
        "id": "_Gmlqbz6CXCL"
      }
    },
    {
      "cell_type": "code",
      "source": [
        "user_input = input(\"Enter the social media post to be analyzed: \")\n",
        "\n",
        "# processing for number of words\n",
        "split_text = user_input.split()\n",
        "\n",
        "length_text = len(split_text)\n",
        "\n",
        "# defined an empty list to be appended later\n",
        "hashtags = []\n",
        "\n",
        "for item in split_text:\n",
        "\n",
        "  if item.startswith(\"#\"):\n",
        "\n",
        "    hashtags.append(item)\n",
        "\n",
        "# defining variable for number of hashtags\n",
        "hashtags_total = len(hashtags)\n",
        "\n",
        "# now, the output\n",
        "print(f\"Number of words: {length_text}\")\n",
        "\n",
        "print(f\"Number of Hashtags: {hashtags_total}\")\n",
        "\n",
        "print(hashtags)"
      ],
      "metadata": {
        "id": "XGgIi9LnCW-n"
      },
      "execution_count": null,
      "outputs": []
    },
    {
      "cell_type": "markdown",
      "source": [
        "## Contact List Manager\n",
        "\n",
        "We wish to create a menu-driven program to manage a contact list. First, let us create all the functions we would need to compile this program. Every function will be applied to the contacts dictionary.\n",
        "\n",
        "(10 marks)"
      ],
      "metadata": {
        "id": "59wtcSVTCXVt"
      }
    },
    {
      "cell_type": "markdown",
      "source": [
        "Function1: Add a Contact\n",
        "  - Function: add_contact(name, phone, contacts)\n",
        "  - This function should add a contact with the given name (string) and phone number (string) to contacts (a dictionary).\n",
        "  - It should also print out the added contact: <br>\n",
        "   \"Contact Added. Ahmad - 0985435678\"\n"
      ],
      "metadata": {
        "id": "oTzr5CnHrc55"
      }
    },
    {
      "cell_type": "code",
      "source": [
        "# while this function works, everytime I add a new contact, it replaces the previous key:value pair\n",
        "\n",
        "contacts = {}\n",
        "\n",
        "def add_contact(name, phone, contacts):\n",
        "  contacts[name] = phone\n",
        "  print(f\"Contact Added: {name} - {phone}\")\n",
        "\n",
        "name = input(\"Please enter name: \")\n",
        "phone = input(\"Please enter phone number: \")\n",
        "\n",
        "add_contact(name, phone, contacts)"
      ],
      "metadata": {
        "id": "6yT1letdtQp0"
      },
      "execution_count": null,
      "outputs": []
    },
    {
      "cell_type": "code",
      "source": [
        "# we saw in class how a bad while loop can crash the system, but a good while loop runs as long as condition is true.\n",
        "# I got this idea from substack community\n",
        "\n",
        "contacts = {}\n",
        "\n",
        "def add_contact(name, phone, contacts):\n",
        "  contacts[name] = phone\n",
        "  print(f\"Contact Added. {name} - {phone}\")\n",
        "\n",
        "while True:\n",
        "  name = input(\"Please enter name (or 'q' to quit): \")\n",
        "\n",
        "  # I added this here for data validation\n",
        "  if name.lower() == \"q\":\n",
        "    break\n",
        "\n",
        "  phone = input(\"Please enter phone number: \")\n",
        "  add_contact(name, phone, contacts)\n",
        "\n",
        "print(f\"Last updated contacts: {contacts}\")"
      ],
      "metadata": {
        "id": "CRrHWzNc9W62",
        "colab": {
          "base_uri": "https://localhost:8080/"
        },
        "outputId": "a1fb2d32-56da-4134-9d50-0fb572816f25"
      },
      "execution_count": 63,
      "outputs": [
        {
          "output_type": "stream",
          "name": "stdout",
          "text": [
            "Please enter name (or 'q' to quit): dad\n",
            "Please enter phone number: 1453\n",
            "Contact Added. dad - 1453\n",
            "Please enter name (or 'q' to quit): mom\n",
            "Please enter phone number: 5321\n",
            "Contact Added. mom - 5321\n",
            "Please enter name (or 'q' to quit): son\n",
            "Please enter phone number: 6146\n",
            "Contact Added. son - 6146\n",
            "Please enter name (or 'q' to quit): q\n",
            "Last updated contacts: {'dad': '1453', 'mom': '5321', 'son': '6146'}\n"
          ]
        }
      ]
    },
    {
      "cell_type": "markdown",
      "source": [
        "Function2: Search a Contact\n",
        "  - Function: search_contact(name, contacts)\n",
        "  - This function should search for a contact by name in the contacts dictionary. If found, print the phone number: <br>\n",
        "  \"Ahmad's phone number is 0985435678\"\n",
        "  - otherwise, return a message: <br>\n",
        "  \"This contact does not exist.\"\n"
      ],
      "metadata": {
        "id": "guQTDSSWtT-a"
      }
    },
    {
      "cell_type": "code",
      "source": [
        "# defining a function to look through contacts dictionary made as above\n",
        "def search_contact(name, contacts):\n",
        "\n",
        "  if name in contacts:\n",
        "    return(f\"{name}'s phone number is {contacts[name]}\")\n",
        "\n",
        "  else:\n",
        "    return(\"This contact does not exist\")\n",
        "\n",
        "# now, taking name to be looked up\n",
        "name = input(\"Please enter name: \")\n",
        "\n",
        "# calling on my function to work its magic\n",
        "output = search_contact(name, contacts)\n",
        "\n",
        "print(output)"
      ],
      "metadata": {
        "id": "RcwXgnwHtxGE"
      },
      "execution_count": null,
      "outputs": []
    },
    {
      "cell_type": "markdown",
      "source": [
        "\n",
        "Function3: Delete a Contact\n",
        "  - Function: delete_contact(name, contacts)\n",
        "  - This function should remove the contact with the given name from the contacts dictionary. It should also print a message: <br>\n",
        "  \"Contact deleted: Ahmad\"\n",
        "  - If the name is not found, display \"name not found\""
      ],
      "metadata": {
        "id": "XYgeErkptzcn"
      }
    },
    {
      "cell_type": "code",
      "source": [
        "# defining a functioon to look through the pre-defined dictionary\n",
        "def delete_contact(name, contacts):\n",
        "\n",
        "  if name in contacts:\n",
        "    del contacts[name]\n",
        "    return(\"This contact has been deleted\")\n",
        "  else:\n",
        "    return(\"Name not found\")\n",
        "\n",
        "# now, taking name to be looked up\n",
        "name = input(\"Please enter name: \")\n",
        "\n",
        "# calling on my function to work its magic\n",
        "output = delete_contact(name, contacts)\n",
        "\n",
        "print(output)"
      ],
      "metadata": {
        "id": "J266EjB2t9PR"
      },
      "execution_count": null,
      "outputs": []
    },
    {
      "cell_type": "code",
      "source": [
        "contacts"
      ],
      "metadata": {
        "id": "T5fIAweft9Xr",
        "colab": {
          "base_uri": "https://localhost:8080/"
        },
        "outputId": "d0ab83b5-a75f-4711-8217-ca9934027f7f"
      },
      "execution_count": null,
      "outputs": [
        {
          "output_type": "execute_result",
          "data": {
            "text/plain": [
              "{}"
            ]
          },
          "metadata": {},
          "execution_count": 18
        }
      ]
    },
    {
      "cell_type": "markdown",
      "source": [
        "Function4: Display All Contacts\n",
        "  - Function: display_contacts(contacts)\n",
        "  - This function should display all the contacts in the contact list:\n",
        "\n",
        "Contact List: <br>\n",
        "Ahmad: 0985435678 <br>\n",
        "Maimoona: 0123456789\n",
        "\n",
        "\n",
        " - If no contacts are available, display a message indicating that the contact list is empty."
      ],
      "metadata": {
        "id": "W4Ywwy3zucK8"
      }
    },
    {
      "cell_type": "code",
      "source": [
        "def display_contacts(contacts):\n",
        "\n",
        "  if not contacts:\n",
        "    print(\"The contact list is empty\")\n",
        "  else:\n",
        "    print(\"The contacts list is as below:\")\n",
        "    for name, phone in contacts.items():\n",
        "      print(f\"{name}: {phone}\")\n",
        "\n",
        "display_contacts(contacts)"
      ],
      "metadata": {
        "id": "dVrRptS-v9_8"
      },
      "execution_count": null,
      "outputs": []
    },
    {
      "cell_type": "markdown",
      "source": [
        "### **BONUS**\n",
        "\n",
        "Compile all the functions above into a program.\n",
        "Guidelines:\n",
        "  - Create a dictionary called contacts\n",
        "  - Implement a while loop to repeatedly display a menu and ask the user to choose an option. the loop should keep running until the user chooses the exit option. (Hint: infinite loop + break statement )\n",
        "  - Use conditional statements to handle each menu option\n",
        "  - Depending on which option the user chose, take appropriate input from the use for that option. for example, if they chose the add contact option, then prompt them to input a name and a phone number and call on the appropriate function to add that name and phone number to contacts.\n",
        "\n",
        "(10 marks)"
      ],
      "metadata": {
        "id": "hKCkbsrRv_Gn"
      }
    },
    {
      "cell_type": "code",
      "source": [
        "# creating an empty dictionary to be populated and called by functions below\n",
        "contacts_directory = {}\n",
        "\n",
        "# function for task 1\n",
        "def add_contact(name, phone, contacts_directory):\n",
        "\n",
        "  contacts_directory[name] = phone\n",
        "  print(f\"Contact Added: {name} - {phone}\")\n",
        "\n",
        "# function for task 2\n",
        "def search_contact(name, contacts):\n",
        "\n",
        "  if name in contacts:\n",
        "    return(f\"{name}'s phone number is {contacts[name]}\")\n",
        "\n",
        "  else:\n",
        "    return(\"This contact does not exist\")\n",
        "\n",
        "# function for task 3\n",
        "def delete_contact(name, contacts_directory):\n",
        "\n",
        " if not contacts_directory:\n",
        "  print(\"This person's contact info is not in the directory\")\n",
        "\n",
        " elif name in contacts_directory:\n",
        "  del contacts_directory[name]\n",
        "\n",
        "  print(\"This contact's info has been deleted\")\n",
        "\n",
        " else:\n",
        "  return(\"Name not found\")\n",
        "\n",
        "# function for task 4\n",
        "def display_contacts(contacts_directory):\n",
        "\n",
        " if not contacts_directory:\n",
        "\n",
        "  print(\"The contact list is empty\")\n",
        "\n",
        " else:\n",
        "  print(\"The contacts list is as below:\")\n",
        "\n",
        "  for name, phone in contacts_directory.items():\n",
        "\n",
        "   print(f\"{name}: {phone}\")\n",
        "\n",
        "\n",
        "# now the inputs\n",
        "\n",
        "while True:\n",
        "  try:\n",
        "    user_input = int(input(\"Contact Manager: \\n 1. Add Contact \\n 2. Search Contact \\n 3. Delete Contact \\n 4. Display Contacts \\n 5. Exit \\n Enter your choice: \"))\n",
        "    print(\"\\n\")\n",
        "\n",
        "# the function breaks if exited\n",
        "    if user_input == 5:\n",
        "      print(\"Exiting Contact Manager. Goodbye!\")\n",
        "      break\n",
        "\n",
        "# this function allows users to enter contacts information\n",
        "    elif user_input == 1:\n",
        "      while True:\n",
        "\n",
        "          name = input(\"Please enter name (or 'q' to quit): \")\n",
        "\n",
        "          if name.lower() == \"q\":\n",
        "            break\n",
        "\n",
        "          phone = input(\"Please enter phone number: \")\n",
        "\n",
        "          add_contact(name, phone, contacts_directory)\n",
        "\n",
        "# this function allows users to search for a contact information\n",
        "    elif user_input == 2:\n",
        "\n",
        "        name = input(\"Please enter name: \")\n",
        "\n",
        "        output = search_contact(name, contacts_directory)\n",
        "\n",
        "        print(output)\n",
        "\n",
        "# this function allows users to delete a contact's information\n",
        "    elif user_input == 3:\n",
        "\n",
        "        name = input(\"Please enter name: \")\n",
        "\n",
        "        output = delete_contact(name, contacts_directory)\n",
        "\n",
        "# this function allows users to see the entire contacts directory\n",
        "    elif user_input == 4:\n",
        "      display_contacts(contacts_directory)\n",
        "\n",
        "    print(\"\\n\")\n",
        "\n",
        "  except ValueError:\n",
        "    print(\"\\n\")\n",
        "    print(\"You have entered incorrect data. Please check.\")\n",
        "\n",
        "  print(\"\\n\")"
      ],
      "metadata": {
        "id": "iqrpEjhcCZeZ"
      },
      "execution_count": null,
      "outputs": []
    },
    {
      "cell_type": "markdown",
      "source": [
        "### Output of Contact List Manager Program:\n",
        "\n",
        "```\n",
        "\n",
        "Contact Manager:\n",
        "1. Add Contact\n",
        "2. Search Contact\n",
        "3. Delete Contact\n",
        "4. Display Contacts\n",
        "5. Exit\n",
        "Enter your choice: 1\n",
        "\n",
        "Enter name: Maimoona\n",
        "Enter phone number: 0123456789\n",
        "Contact added: Maimoona - 0123456789\n",
        "\n",
        "Contact Manager:\n",
        "1. Add Contact\n",
        "2. Search Contact\n",
        "3. Delete Contact\n",
        "4. Display Contacts\n",
        "5. Exit\n",
        "Enter your choice: 1\n",
        "\n",
        "Enter name: Ahmad\n",
        "Enter phone number: 0985435678\n",
        "Contact added: Ahmad - 0985435678\n",
        "\n",
        "Contact Manager:\n",
        "1. Add Contact\n",
        "2. Search Contact\n",
        "3. Delete Contact\n",
        "4. Display Contacts\n",
        "5. Exit\n",
        "Enter your choice: 4\n",
        "\n",
        "Contact List:\n",
        "Maimoona: 0123456789\n",
        "Ahmad: 0985435678\n",
        "\n",
        "Contact Manager:\n",
        "1. Add Contact\n",
        "2. Search Contact\n",
        "3. Delete Contact\n",
        "4. Display Contacts\n",
        "5. Exit\n",
        "Enter your choice: 2\n",
        "\n",
        "Enter name to search: Ahmad\n",
        "Ahmad's phone number is 0985435678\n",
        "\n",
        "Contact Manager:\n",
        "1. Add Contact\n",
        "2. Search Contact\n",
        "3. Delete Contact\n",
        "4. Display Contacts\n",
        "5. Exit\n",
        "Enter your choice: 3\n",
        "\n",
        "Enter name to delete: Ahmad\n",
        "Contact deleted: Ahmad\n",
        "\n",
        "Contact Manager:\n",
        "1. Add Contact\n",
        "2. Search Contact\n",
        "3. Delete Contact\n",
        "4. Display Contacts\n",
        "5. Exit\n",
        "Enter your choice: 3\n",
        "\n",
        "Enter name to delete: Maimoona\n",
        "Contact deleted: Maimoona\n",
        "\n",
        "Contact Manager:\n",
        "1. Add Contact\n",
        "2. Search Contact\n",
        "3. Delete Contact\n",
        "4. Display Contacts\n",
        "5. Exit\n",
        "Enter your choice: 4\n",
        "\n",
        "No contacts available.\n",
        "\n",
        "Contact Manager:\n",
        "1. Add Contact\n",
        "2. Search Contact\n",
        "3. Delete Contact\n",
        "4. Display Contacts\n",
        "5. Exit\n",
        "Enter your choice: 5\n",
        "\n",
        "Exiting Contact Manager. Goodbye!```\n",
        "\n"
      ],
      "metadata": {
        "id": "O1AOBVOOBj7s"
      }
    },
    {
      "cell_type": "markdown",
      "source": [
        "# Good Luck!"
      ],
      "metadata": {
        "id": "2QCJNpYAB97h"
      }
    }
  ]
}